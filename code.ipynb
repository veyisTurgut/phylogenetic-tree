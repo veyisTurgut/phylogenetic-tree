{
 "cells": [
  {
   "cell_type": "markdown",
   "metadata": {},
   "source": [
    "# ADALET VEYİS TURGUT\n",
    "## Cmpe 484 Project 2"
   ]
  },
  {
   "cell_type": "markdown",
   "metadata": {},
   "source": [
    "### helper"
   ]
  },
  {
   "cell_type": "code",
   "execution_count": 1,
   "metadata": {},
   "outputs": [],
   "source": [
    "def print_matrix(matrix):\n",
    "    for row in matrix:\n",
    "        for el in row:\n",
    "            print(\"%.2f\" % el,end=\"\\t\")\n",
    "        print()"
   ]
  },
  {
   "cell_type": "markdown",
   "metadata": {},
   "source": [
    "# Question 1"
   ]
  },
  {
   "cell_type": "markdown",
   "metadata": {},
   "source": [
    "### Part a"
   ]
  },
  {
   "cell_type": "code",
   "execution_count": 2,
   "metadata": {},
   "outputs": [],
   "source": [
    "from Bio import SeqIO\n",
    "import numpy as np\n",
    "records = [x.seq[21563:25384+1] for x in SeqIO.parse(\"./UK Coronavirus Data/Coronavirus Samples/England (NOV272020)/HCOV19-ENGLAND-271120-A.fasta\", \"fasta\")]\n",
    "nucleotide_matrix = np.array(records)"
   ]
  },
  {
   "cell_type": "markdown",
   "metadata": {},
   "source": [
    "### Part b"
   ]
  },
  {
   "cell_type": "code",
   "execution_count": 3,
   "metadata": {},
   "outputs": [],
   "source": [
    "def convert_nucleotide_matrix(nucleotide_matrix):\n",
    "    for id,row in enumerate(nucleotide_matrix):\n",
    "        for id2,elem in enumerate(row):\n",
    "            if elem not in ['A','T','G','C']:\n",
    "                nucleotide_matrix[id][id2] = \"-\"\n",
    "    return nucleotide_matrix\n",
    "nucleotide_matrix = convert_nucleotide_matrix(nucleotide_matrix)"
   ]
  },
  {
   "cell_type": "markdown",
   "metadata": {},
   "source": [
    "### part c"
   ]
  },
  {
   "cell_type": "code",
   "execution_count": 4,
   "metadata": {},
   "outputs": [
    {
     "data": {
      "text/plain": [
       "<matplotlib.image.AxesImage at 0x7fe748bf3250>"
      ]
     },
     "execution_count": 4,
     "metadata": {},
     "output_type": "execute_result"
    },
    {
     "data": {
      "image/png": "[encoded data removed]",
      "text/plain": [
       "<Figure size 1440x144 with 1 Axes>"
      ]
     },
     "metadata": {
      "needs_background": "light"
     },
     "output_type": "display_data"
    }
   ],
   "source": [
    "import matplotlib.pyplot as plt\n",
    "from matplotlib.colors import ListedColormap\n",
    "\n",
    "first_25_samples = np.array([a[:250] for a in nucleotide_matrix[:25]])\n",
    "# convert strings to numbers\n",
    "first_25_samples=np.where(first_25_samples =='A', 0,first_25_samples)\n",
    "first_25_samples=np.where(first_25_samples =='T', 1,first_25_samples)\n",
    "first_25_samples=np.where(first_25_samples =='G', 2,first_25_samples)\n",
    "first_25_samples=np.where(first_25_samples =='C', 3,first_25_samples)\n",
    "first_25_samples=np.where(first_25_samples =='-', 4,first_25_samples).astype('int8')\n",
    "colors = [\"lime\", \"blue\", \"red\", \"gray\", \"white\"]\n",
    "cmap = ListedColormap(colors)\n",
    "plt.figure(figsize = (20,2))\n",
    "plt.imshow(first_25_samples, vmin=0, vmax=len(cmap.colors), cmap=cmap)"
   ]
  },
  {
   "cell_type": "code",
   "execution_count": 5,
   "metadata": {},
   "outputs": [
    {
     "data": {
      "text/plain": [
       "<matplotlib.image.AxesImage at 0x7fe748d3a2e0>"
      ]
     },
     "execution_count": 5,
     "metadata": {},
     "output_type": "execute_result"
    },
    {
     "data": {
      "image/png": "[encoded data removed]",
      "text/plain": [
       "<Figure size 432x288 with 1 Axes>"
      ]
     },
     "metadata": {
      "needs_background": "light"
     },
     "output_type": "display_data"
    }
   ],
   "source": [
    "# just to show that coloring is consistent with appendix A\n",
    "plt.imshow(np.array([[0,1,4,2],[2,3,1,1]]),vmin=0, vmax=len(cmap.colors), cmap=cmap)"
   ]
  },
  {
   "cell_type": "markdown",
   "metadata": {},
   "source": [
    "### part d"
   ]
  },
  {
   "cell_type": "markdown",
   "metadata": {},
   "source": [
    "* 50th nucleotid is different for some samples. Some of them 'C' and some of them 'T'.\n",
    "* 235thish nucleotid of 22 or 23rd sample is different from others. It might be mutation.\n",
    "* Finally, there are white horizantal lines after 200th nucleotids. They are highly visible mutations."
   ]
  },
  {
   "cell_type": "markdown",
   "metadata": {},
   "source": [
    "### part e"
   ]
  },
  {
   "cell_type": "code",
   "execution_count": 6,
   "metadata": {},
   "outputs": [
    {
     "data": {
      "text/plain": [
       "15.041912414592813"
      ]
     },
     "execution_count": 6,
     "metadata": {},
     "output_type": "execute_result"
    }
   ],
   "source": [
    "import math\n",
    "entropy = 0\n",
    "for elem in ['A','T','G','C']:\n",
    "    for i in range(len(nucleotide_matrix[0])):\n",
    "        col = nucleotide_matrix[:,i]\n",
    "        count_of_col = np.sum(col != '-')\n",
    "        prob = np.sum(col==elem) / count_of_col\n",
    "        if prob == 0: continue\n",
    "        entropy -= prob * math.log(prob,2)\n",
    "entropy"
   ]
  },
  {
   "cell_type": "markdown",
   "metadata": {},
   "source": [
    "# Question 2"
   ]
  },
  {
   "cell_type": "markdown",
   "metadata": {},
   "source": [
    "### data prep"
   ]
  },
  {
   "cell_type": "code",
   "execution_count": 7,
   "metadata": {},
   "outputs": [],
   "source": [
    "records = [x.seq[21563:25384+1] for x in SeqIO.parse(\"./UK Coronavirus Data/Coronavirus Samples/England (NOV032020)/HCOV19-ENGLAND-031120-A.fasta\", \"fasta\")][:4]\n",
    "records += [x.seq[21563:25384+1] for x in SeqIO.parse(\"./UK Coronavirus Data/Coronavirus Samples/England (NOV272020)/HCOV19-ENGLAND-271120-A.fasta\", \"fasta\")][:4]\n",
    "records += [x.seq[21563:25384+1] for x in SeqIO.parse(\"./UK Coronavirus Data/Coronavirus Samples/England (DEC082020)/HCOV19-ENGLAND-081220-A.fasta\", \"fasta\")][:4]\n",
    "nucleotide_matrix = convert_nucleotide_matrix(np.array(records))"
   ]
  },
  {
   "cell_type": "markdown",
   "metadata": {},
   "source": [
    "### Part a"
   ]
  },
  {
   "cell_type": "code",
   "execution_count": 8,
   "metadata": {},
   "outputs": [
    {
     "name": "stdout",
     "output_type": "stream",
     "text": [
      "1.00\t0.87\t0.87\t0.91\t0.88\t0.93\t0.93\t0.93\t0.88\t0.86\t0.88\t0.93\t\n",
      "0.87\t1.00\t1.00\t0.92\t0.89\t0.94\t0.94\t0.94\t0.89\t0.88\t0.99\t0.94\t\n",
      "0.87\t1.00\t1.00\t0.92\t0.89\t0.94\t0.94\t0.94\t0.89\t0.88\t0.99\t0.94\t\n",
      "0.91\t0.92\t0.92\t1.00\t0.93\t0.98\t0.98\t0.98\t0.92\t0.91\t0.93\t0.98\t\n",
      "0.88\t0.89\t0.89\t0.93\t1.00\t0.95\t0.95\t0.95\t1.00\t0.88\t0.90\t0.95\t\n",
      "0.93\t0.94\t0.94\t0.98\t0.95\t1.00\t1.00\t1.00\t0.95\t0.94\t0.95\t1.00\t\n",
      "0.93\t0.94\t0.94\t0.98\t0.95\t1.00\t1.00\t1.00\t0.95\t0.94\t0.95\t1.00\t\n",
      "0.93\t0.94\t0.94\t0.98\t0.95\t1.00\t1.00\t1.00\t0.95\t0.94\t0.95\t1.00\t\n",
      "0.88\t0.89\t0.89\t0.92\t1.00\t0.95\t0.95\t0.95\t1.00\t0.88\t0.90\t0.95\t\n",
      "0.86\t0.88\t0.88\t0.91\t0.88\t0.94\t0.94\t0.94\t0.88\t1.00\t0.89\t0.94\t\n",
      "0.88\t0.99\t0.99\t0.93\t0.90\t0.95\t0.95\t0.95\t0.90\t0.89\t1.00\t0.95\t\n",
      "0.93\t0.94\t0.94\t0.98\t0.95\t1.00\t1.00\t1.00\t0.95\t0.94\t0.95\t1.00\t\n"
     ]
    },
    {
     "data": {
      "text/plain": [
       "<matplotlib.image.AxesImage at 0x7fe718df9940>"
      ]
     },
     "execution_count": 8,
     "metadata": {},
     "output_type": "execute_result"
    },
    {
     "data": {
      "image/png": "[encoded data removed]",
      "text/plain": [
       "<Figure size 432x288 with 1 Axes>"
      ]
     },
     "metadata": {
      "needs_background": "light"
     },
     "output_type": "display_data"
    }
   ],
   "source": [
    "def calculate_pairwise_similarity_matrix(nucleotide_matrix):\n",
    "    pairwise_similarity_matrix = []\n",
    "    for i,row in enumerate(nucleotide_matrix):\n",
    "        current_similarity = []\n",
    "        for j,row2 in enumerate(nucleotide_matrix):\n",
    "            same_count = 0\n",
    "            for el1,el2 in zip(row,row2):\n",
    "                if el1==el2:\n",
    "                    same_count +=1\n",
    "            current_similarity.append(same_count/len(row))\n",
    "        pairwise_similarity_matrix.append(current_similarity)\n",
    "    return pairwise_similarity_matrix\n",
    "pairwise_similarity_matrix = calculate_pairwise_similarity_matrix(nucleotide_matrix)\n",
    "print_matrix(pairwise_similarity_matrix)\n",
    "plt.imshow(pairwise_similarity_matrix,cmap=\"gray\")\n"
   ]
  },
  {
   "cell_type": "markdown",
   "metadata": {},
   "source": [
    "### Part b"
   ]
  },
  {
   "cell_type": "code",
   "execution_count": 9,
   "metadata": {},
   "outputs": [
    {
     "name": "stdout",
     "output_type": "stream",
     "text": [
      "0.00\t0.13\t0.13\t0.09\t0.12\t0.07\t0.07\t0.07\t0.12\t0.14\t0.12\t0.07\t\n",
      "0.13\t0.00\t0.00\t0.08\t0.11\t0.06\t0.06\t0.06\t0.11\t0.12\t0.01\t0.06\t\n",
      "0.13\t0.00\t0.00\t0.08\t0.11\t0.06\t0.06\t0.06\t0.11\t0.12\t0.01\t0.06\t\n",
      "0.09\t0.08\t0.08\t0.00\t0.07\t0.02\t0.02\t0.02\t0.08\t0.09\t0.07\t0.02\t\n",
      "0.12\t0.11\t0.11\t0.07\t0.00\t0.05\t0.05\t0.05\t0.00\t0.12\t0.10\t0.05\t\n",
      "0.07\t0.06\t0.06\t0.02\t0.05\t0.00\t0.00\t0.00\t0.05\t0.06\t0.05\t0.00\t\n",
      "0.07\t0.06\t0.06\t0.02\t0.05\t0.00\t0.00\t0.00\t0.05\t0.06\t0.05\t0.00\t\n",
      "0.07\t0.06\t0.06\t0.02\t0.05\t0.00\t0.00\t0.00\t0.05\t0.06\t0.05\t0.00\t\n",
      "0.12\t0.11\t0.11\t0.08\t0.00\t0.05\t0.05\t0.05\t0.00\t0.12\t0.10\t0.05\t\n",
      "0.14\t0.12\t0.12\t0.09\t0.12\t0.06\t0.06\t0.06\t0.12\t0.00\t0.11\t0.06\t\n",
      "0.12\t0.01\t0.01\t0.07\t0.10\t0.05\t0.05\t0.05\t0.10\t0.11\t0.00\t0.05\t\n",
      "0.07\t0.06\t0.06\t0.02\t0.05\t0.00\t0.00\t0.00\t0.05\t0.06\t0.05\t0.00\t\n"
     ]
    },
    {
     "data": {
      "text/plain": [
       "<matplotlib.image.AxesImage at 0x7fe718e8bf70>"
      ]
     },
     "execution_count": 9,
     "metadata": {},
     "output_type": "execute_result"
    },
    {
     "data": {
      "image/png": "[encoded data removed]",
      "text/plain": [
       "<Figure size 432x288 with 1 Axes>"
      ]
     },
     "metadata": {
      "needs_background": "light"
     },
     "output_type": "display_data"
    }
   ],
   "source": [
    "pairwise_distance_matrix = 1 - np.array(pairwise_similarity_matrix)\n",
    "print_matrix(pairwise_distance_matrix)\n",
    "plt.imshow(pairwise_distance_matrix,cmap=\"gray\")"
   ]
  },
  {
   "cell_type": "markdown",
   "metadata": {},
   "source": [
    "### Part c"
   ]
  },
  {
   "cell_type": "code",
   "execution_count": 10,
   "metadata": {},
   "outputs": [
    {
     "name": "stdout",
     "output_type": "stream",
     "text": [
      "Newick Tree:\n",
      "(A6:0.00040779532967032866,(A8:0.0007604003139717718,((A12:0.0003985969387755089,((A11:0.0019050889586603864,(A2:0.00033432176289318466,A3:0.0009738938310367221):0.009083922030350619):0.047608145822431516,(A1:0.07130709426627793,(A5:0.00030088958660390297,A9:0.0025771847200418696):0.050095312850414866):0.0010574742717599922):0.0002555108581894167):9.198390894819917e-05,(A4:0.021589645473574056,(A7:0.00031724228152801154,A10:0.06352367870225013):0.00012673338566194028):7.563121402408019e-05):5.51903453688855e-05):0.00040779532967032866)\n"
     ]
    }
   ],
   "source": [
    "branch_lengths = [\"A{}\".format(i+1) for i in range(len(pairwise_similarity_matrix))]\n",
    "for _ in range(len(pairwise_similarity_matrix)-2):\n",
    "    # calculate r'\n",
    "    r_prime = [sum(row)/(len(pairwise_distance_matrix)-2) for row in pairwise_distance_matrix]\n",
    "    # calculate d'\n",
    "    d_prime = np.zeros(shape=(len(r_prime),len(r_prime)))\n",
    "    for i,row in enumerate(pairwise_distance_matrix):\n",
    "        for j,el in enumerate(row):\n",
    "            if i>=j:\n",
    "                d_prime[i][j] = math.inf\n",
    "            else:\n",
    "                d_prime[i][j] = pairwise_distance_matrix[i][j] - r_prime[i] - r_prime[j]\n",
    "    # find mininum of d'\n",
    "    min_row, min_col = np.argwhere(d_prime == np.min(d_prime))[-1]\n",
    "    # calculate branch lengths\n",
    "    v_i = (pairwise_distance_matrix[min_row][min_col] + r_prime[min_row]-r_prime[min_col])/2\n",
    "    v_j = (pairwise_distance_matrix[min_row][min_col] + r_prime[min_col]-r_prime[min_row])/2\n",
    "    # update branch lengths\n",
    "    branch_lengths.append(\"({}:{},{}:{})\".format(branch_lengths[min_row],v_i,branch_lengths[min_col],v_j))\n",
    "    branch_lengths.pop(max(min_row,min_col))\n",
    "    branch_lengths.pop(min(min_row,min_col))\n",
    "    # construct new distance matrix\n",
    "    new_distances_of_merged_clusters = [(pairwise_distance_matrix[min_row][k]+pairwise_distance_matrix[min_col][k]-pairwise_distance_matrix[min_row][min_col]) / 2 for k in range(len(pairwise_distance_matrix)) if k!=min_col and k!= min_row]\n",
    "    pairwise_distance_matrix = np.delete(pairwise_distance_matrix,max(min_row,min_col),0)\n",
    "    pairwise_distance_matrix = np.delete(pairwise_distance_matrix,min(min_row,min_col),0) \n",
    "    pairwise_distance_matrix = np.delete(pairwise_distance_matrix,max(min_row,min_col),1)\n",
    "    pairwise_distance_matrix = np.delete(pairwise_distance_matrix,min(min_row,min_col),1)\n",
    "    pairwise_distance_matrix = np.hstack([pairwise_distance_matrix,np.reshape(np.array(new_distances_of_merged_clusters),(len(new_distances_of_merged_clusters),1))])\n",
    "    pairwise_distance_matrix = np.vstack([pairwise_distance_matrix,np.append(np.reshape(np.array(new_distances_of_merged_clusters),(len(new_distances_of_merged_clusters),1)),[0])])\n",
    "#final_branch_length = \"({}:{},{}:{}):{}\".format(branch_lengths[0],(v_i+v_j)/2,branch_lengths[1],(v_i+v_j)/2,0)\n",
    "final_branch_length = \"({}:{},{}:{})\".format(branch_lengths[0],(v_i+v_j)/2,branch_lengths[1],(v_i+v_j)/2)\n",
    "print(\"Newick Tree:\",final_branch_length,sep=\"\\n\")"
   ]
  },
  {
   "cell_type": "markdown",
   "metadata": {},
   "source": [
    "### Part d"
   ]
  },
  {
   "cell_type": "code",
   "execution_count": 11,
   "metadata": {},
   "outputs": [
    {
     "name": "stdout",
     "output_type": "stream",
     "text": [
      "Tree(rooted=False, weight=1.0)\n",
      "    Clade()\n",
      "        Clade(branch_length=0.00040779532967032866, name='A6')\n",
      "        Clade(branch_length=0.00040779532967032866)\n",
      "            Clade(branch_length=0.0007604003139717718, name='A8')\n",
      "            Clade(branch_length=5.51903453688855e-05)\n",
      "                Clade(branch_length=7.563121402408019e-05)\n",
      "                    Clade(branch_length=0.021589645473574056, name='A4')\n",
      "                    Clade(branch_length=0.00012673338566194028)\n",
      "                        Clade(branch_length=0.00031724228152801154, name='A7')\n",
      "                        Clade(branch_length=0.06352367870225013, name='A10')\n",
      "                Clade(branch_length=9.198390894819917e-05)\n",
      "                    Clade(branch_length=0.0003985969387755089, name='A12')\n",
      "                    Clade(branch_length=0.0002555108581894167)\n",
      "                        Clade(branch_length=0.047608145822431516)\n",
      "                            Clade(branch_length=0.0019050889586603864, name='A11')\n",
      "                            Clade(branch_length=0.009083922030350619)\n",
      "                                Clade(branch_length=0.00033432176289318466, name='A2')\n",
      "                                Clade(branch_length=0.0009738938310367221, name='A3')\n",
      "                        Clade(branch_length=0.0010574742717599922)\n",
      "                            Clade(branch_length=0.07130709426627793, name='A1')\n",
      "                            Clade(branch_length=0.050095312850414866)\n",
      "                                Clade(branch_length=0.00030088958660390297, name='A5')\n",
      "                                Clade(branch_length=0.0025771847200418696, name='A9')\n"
     ]
    },
    {
     "data": {
      "image/png": "[encoded data removed]",
      "text/plain": [
       "<Figure size 432x288 with 1 Axes>"
      ]
     },
     "metadata": {
      "needs_background": "light"
     },
     "output_type": "display_data"
    }
   ],
   "source": [
    "from Bio import Phylo\n",
    "from io import StringIO\n",
    "tree = Phylo.read(StringIO(final_branch_length), \"newick\")\n",
    "tree.ladderize()\n",
    "print(tree)\n",
    "Phylo.draw(tree)"
   ]
  },
  {
   "cell_type": "markdown",
   "metadata": {},
   "source": [
    "### Part e"
   ]
  },
  {
   "cell_type": "code",
   "execution_count": 12,
   "metadata": {},
   "outputs": [
    {
     "name": "stdout",
     "output_type": "stream",
     "text": [
      "Tree(rooted=False)\n",
      "    Clade(branch_length=0, name='Inner10')\n",
      "        Clade(name='A6')\n",
      "        Clade(name='A8')\n",
      "        Clade(name='Inner9')\n",
      "            Clade(name='Inner8')\n",
      "                Clade(name='A4')\n",
      "                Clade(name='Inner6')\n",
      "                    Clade(name='A10')\n",
      "                    Clade(name='A7')\n",
      "            Clade(name='Inner7')\n",
      "                Clade(name='A12')\n",
      "                Clade(name='Inner5')\n",
      "                    Clade(name='Inner4')\n",
      "                        Clade(name='A1')\n",
      "                        Clade(name='Inner1')\n",
      "                            Clade(name='A9')\n",
      "                            Clade(name='A5')\n",
      "                    Clade(name='Inner3')\n",
      "                        Clade(name='A11')\n",
      "                        Clade(name='Inner2')\n",
      "                            Clade(name='A3')\n",
      "                            Clade(name='A2')\n"
     ]
    },
    {
     "data": {
      "image/png": "[encoded data removed]",
      "text/plain": [
       "<Figure size 432x288 with 1 Axes>"
      ]
     },
     "metadata": {
      "needs_background": "light"
     },
     "output_type": "display_data"
    }
   ],
   "source": [
    "from Bio.Phylo.TreeConstruction import DistanceTreeConstructor,DistanceMatrix\n",
    "# first create distance matrix\n",
    "dist_matrix = []\n",
    "for i,row in enumerate(1 - np.array(pairwise_similarity_matrix)):\n",
    "    dist_matrix.append(list(row[:i+1])) ## works only with python lists, convert np array to python built-in list\n",
    "distance_matrix = DistanceMatrix(names=[\"A{}\".format(i+1) for i in range(len(dist_matrix))],matrix=dist_matrix)\n",
    "tree = DistanceTreeConstructor().nj(distance_matrix)\n",
    "tree.ladderize()\n",
    "print(tree)\n",
    "Phylo.draw(tree)"
   ]
  },
  {
   "cell_type": "markdown",
   "metadata": {},
   "source": [
    "Results from my implementation(2-c) and library implementation(2-e) are same."
   ]
  },
  {
   "cell_type": "markdown",
   "metadata": {},
   "source": [
    "### Part f"
   ]
  },
  {
   "cell_type": "code",
   "execution_count": 13,
   "metadata": {},
   "outputs": [
    {
     "name": "stdout",
     "output_type": "stream",
     "text": [
      "Tree(rooted=False)\n",
      "    Clade(branch_length=0, name='Inner296')\n",
      "        Clade(name='A271')\n",
      "        Clade(name='A272')\n",
      "        Clade(name='Inner295')\n",
      "            Clade(name='A270')\n",
      "            Clade(name='Inner294')\n",
      "                Clade(name='A184')\n",
      "                Clade(name='Inner293')\n",
      "                    Clade(name='Inner289')\n",
      "                        Clade(name='A73')\n",
      "                        Clade(name='Inner143')\n",
      "                            Clade(name='A187')\n",
      "                            Clade(name='A81')\n",
      "                    Clade(name='Inner292')\n",
      "                        Clade(name='A186')\n",
      "                        Clade(name='Inner291')\n",
      "                            Clade(name='A138')\n",
      "                            Clade(name='Inner290')\n",
      "                                Clade(name='A82')\n",
      "                                Clade(name='Inner288')\n",
      "                                    Clade(name='A72')\n",
      "                                    Clade(name='Inner287')\n",
      "                                        Clade(name='A71')\n",
      "                                        Clade(name='Inner286')\n",
      "                                            Clade(name='A68')\n",
      "                                            Clade(name='Inner285')\n",
      "                                                Clade(name='Inner190')\n",
      "                                                    Clade(name='A96')\n",
      "                                                    Clade(name='A42')\n",
      "                                                Clade(name='Inner284')\n",
      "                                                    Clade(name='A37')\n",
      "                                                    Clade(name='Inner283')\n",
      "                                                        Clade(name='A273')\n",
      "                                                        Clade(name='Inner282')\n",
      "                                                            Clade(name='A108')\n",
      "                                                            Clade(name='Inner281')\n",
      "                                                                Clade(name='A274')\n",
      "                                                                Clade(name='Inner280')\n",
      "                                                                    Clade(name='Inner197')\n",
      "                                                                        Clade(name='A180')\n",
      "                                                                        Clade(name='Inner196')\n",
      "                                                                            Clade(name='A179')\n",
      "                                                                            Clade(name='Inner195')\n",
      "                                                                                Clade(name='A156')\n",
      "                                                                                Clade(name='Inner194')\n",
      "                                                                                    Clade(name='A35')\n",
      "                                                                                    Clade(name='A23')\n",
      "                                                                    Clade(name='Inner279')\n",
      "                                                                        Clade(name='A296')\n",
      "                                                                        Clade(name='Inner278')\n",
      "                                                                            Clade(name='A98')\n",
      "                                                                            Clade(name='Inner277')\n",
      "                                                                                Clade(name='A129')\n",
      "                                                                                Clade(name='Inner276')\n",
      "                                                                                    Clade(name='Inner275')\n",
      "                                                                                        Clade(name='Inner273')\n",
      "                                                                                            Clade(name='Inner212')\n",
      "                                                                                                Clade(name='A250')\n",
      "                                                                                                Clade(name='A80')\n",
      "                                                                                            Clade(name='Inner272')\n",
      "                                                                                                Clade(name='A161')\n",
      "                                                                                                Clade(name='Inner271')\n",
      "                                                                                                    Clade(name='Inner128')\n",
      "                                                                                                        Clade(name='A210')\n",
      "                                                                                                        Clade(name='A209')\n",
      "                                                                                                    Clade(name='Inner270')\n",
      "                                                                                                        Clade(name='A251')\n",
      "                                                                                                        Clade(name='Inner269')\n",
      "                                                                                                            Clade(name='A298')\n",
      "                                                                                                            Clade(name='Inner268')\n",
      "                                                                                                                Clade(name='A269')\n",
      "                                                                                                                Clade(name='Inner267')\n",
      "                                                                                                                    Clade(name='A162')\n",
      "                                                                                                                    Clade(name='Inner266')\n",
      "                                                                                                                        Clade(name='A159')\n",
      "                                                                                                                        Clade(name='Inner265')\n",
      "                                                                                                                            Clade(name='A111')\n",
      "                                                                                                                            Clade(name='Inner264')\n",
      "                                                                                                                                Clade(name='A110')\n",
      "                                                                                                                                Clade(name='Inner263')\n",
      "                                                                                                                                    Clade(name='A109')\n",
      "                                                                                                                                    Clade(name='Inner262')\n",
      "                                                                                                                                        Clade(name='A89')\n",
      "                                                                                                                                        Clade(name='Inner261')\n",
      "                                                                                                                                            Clade(name='A66')\n",
      "                                                                                                                                            Clade(name='Inner260')\n",
      "                                                                                                                                                Clade(name='A65')\n",
      "                                                                                                                                                Clade(name='Inner259')\n",
      "                                                                                                                                                    Clade(name='A64')\n",
      "                                                                                                                                                    Clade(name='Inner258')\n",
      "                                                                                                                                                        Clade(name='A63')\n",
      "                                                                                                                                                        Clade(name='Inner257')\n",
      "                                                                                                                                                            Clade(name='A62')\n",
      "                                                                                                                                                            Clade(name='Inner256')\n",
      "                                                                                                                                                                Clade(name='A61')\n",
      "                                                                                                                                                                Clade(name='Inner255')\n",
      "                                                                                                                                                                    Clade(name='A60')\n",
      "                                                                                                                                                                    Clade(name='Inner254')\n",
      "                                                                                                                                                                        Clade(name='A59')\n",
      "                                                                                                                                                                        Clade(name='Inner253')\n",
      "                                                                                                                                                                            Clade(name='A58')\n",
      "                                                                                                                                                                            Clade(name='Inner252')\n",
      "                                                                                                                                                                                Clade(name='A57')\n",
      "                                                                                                                                                                                Clade(name='Inner167')\n",
      "                                                                                                                                                                                    Clade(name='A87')\n",
      "                                                                                                                                                                                    Clade(name='Inner166')\n",
      "                                                                                                                                                                                        Clade(name='A41')\n",
      "                                                                                                                                                                                        Clade(name='Inner165')\n",
      "                                                                                                                                                                                            Clade(name='A40')\n",
      "                                                                                                                                                                                            Clade(name='Inner164')\n",
      "                                                                                                                                                                                                Clade(name='A39')\n",
      "                                                                                                                                                                                                Clade(name='A17')\n",
      "                                                                                        Clade(name='Inner251')\n",
      "                                                                                            Clade(name='Inner192')\n",
      "                                                                                                Clade(name='A190')\n",
      "                                                                                                Clade(name='Inner191')\n",
      "                                                                                                    Clade(name='A189')\n",
      "                                                                                                    Clade(name='A188')\n",
      "                                                                                            Clade(name='Inner231')\n",
      "                                                                                                Clade(name='Inner203')\n",
      "                                                                                                    Clade(name='Inner155')\n",
      "                                                                                                        Clade(name='A94')\n",
      "                                                                                                        Clade(name='A53')\n",
      "                                                                                                    Clade(name='Inner202')\n",
      "                                                                                                        Clade(name='A51')\n",
      "                                                                                                        Clade(name='Inner201')\n",
      "                                                                                                            Clade(name='A246')\n",
      "                                                                                                            Clade(name='Inner200')\n",
      "                                                                                                                Clade(name='A93')\n",
      "                                                                                                                Clade(name='Inner199')\n",
      "                                                                                                                    Clade(name='A245')\n",
      "                                                                                                                    Clade(name='Inner198')\n",
      "                                                                                                                        Clade(name='A52')\n",
      "                                                                                                                        Clade(name='A20')\n",
      "                                                                                                Clade(name='Inner106')\n",
      "                                                                                                    Clade(name='Inner105')\n",
      "                                                                                                        Clade(name='A247')\n",
      "                                                                                                        Clade(name='Inner104')\n",
      "                                                                                                            Clade(name='Inner103')\n",
      "                                                                                                                Clade(name='A54')\n",
      "                                                                                                                Clade(name='Inner102')\n",
      "                                                                                                                    Clade(name='A157')\n",
      "                                                                                                                    Clade(name='Inner101')\n",
      "                                                                                                                        Clade(name='A249')\n",
      "                                                                                                                        Clade(name='Inner100')\n",
      "                                                                                                                            Clade(name='A248')\n",
      "                                                                                                                            Clade(name='Inner99')\n",
      "                                                                                                                                Clade(name='A56')\n",
      "                                                                                                                                Clade(name='A55')\n",
      "                                                                                                            Clade(name='Inner38')\n",
      "                                                                                                                Clade(name='A282')\n",
      "                                                                                                                Clade(name='Inner33')\n",
      "                                                                                                                    Clade(name='Inner32')\n",
      "                                                                                                                        Clade(name='A243')\n",
      "                                                                                                                        Clade(name='A140')\n",
      "                                                                                                                    Clade(name='Inner29')\n",
      "                                                                                                                        Clade(name='Inner28')\n",
      "                                                                                                                            Clade(name='A291')\n",
      "                                                                                                                            Clade(name='A284')\n",
      "                                                                                                                        Clade(name='Inner26')\n",
      "                                                                                                                            Clade(name='Inner25')\n",
      "                                                                                                                                Clade(name='A141')\n",
      "                                                                                                                                Clade(name='A107')\n",
      "                                                                                                                            Clade(name='Inner23')\n",
      "                                                                                                                                Clade(name='A211')\n",
      "                                                                                                                                Clade(name='Inner19')\n",
      "                                                                                                                                    Clade(name='A290')\n",
      "                                                                                                                                    Clade(name='Inner15')\n",
      "                                                                                                                                        Clade(name='A101')\n",
      "                                                                                                                                        Clade(name='Inner14')\n",
      "                                                                                                                                            Clade(name='A126')\n",
      "                                                                                                                                            Clade(name='Inner13')\n",
      "                                                                                                                                                Clade(name='A34')\n",
      "                                                                                                                                                Clade(name='Inner12')\n",
      "                                                                                                                                                    Clade(name='A201')\n",
      "                                                                                                                                                    Clade(name='A118')\n",
      "                                                                                                    Clade(name='Inner98')\n",
      "                                                                                                        Clade(name='Inner36')\n",
      "                                                                                                            Clade(name='A213')\n",
      "                                                                                                            Clade(name='A1')\n",
      "                                                                                                        Clade(name='Inner97')\n",
      "                                                                                                            Clade(name='A115')\n",
      "                                                                                                            Clade(name='Inner96')\n",
      "                                                                                                                Clade(name='Inner47')\n",
      "                                                                                                                    Clade(name='A228')\n",
      "                                                                                                                    Clade(name='Inner46')\n",
      "                                                                                                                        Clade(name='A280')\n",
      "                                                                                                                        Clade(name='A223')\n",
      "                                                                                                                Clade(name='Inner95')\n",
      "                                                                                                                    Clade(name='Inner45')\n",
      "                                                                                                                        Clade(name='A147')\n",
      "                                                                                                                        Clade(name='Inner44')\n",
      "                                                                                                                            Clade(name='A148')\n",
      "                                                                                                                            Clade(name='A105')\n",
      "                                                                                                                    Clade(name='Inner94')\n",
      "                                                                                                                        Clade(name='Inner41')\n",
      "                                                                                                                            Clade(name='A235')\n",
      "                                                                                                                            Clade(name='A234')\n",
      "                                                                                                                        Clade(name='Inner93')\n",
      "                                                                                                                            Clade(name='A215')\n",
      "                                                                                                                            Clade(name='Inner92')\n",
      "                                                                                                                                Clade(name='A145')\n",
      "                                                                                                                                Clade(name='Inner91')\n",
      "                                                                                                                                    Clade(name='A149')\n",
      "                                                                                                                                    Clade(name='Inner90')\n",
      "                                                                                                                                        Clade(name='A232')\n",
      "                                                                                                                                        Clade(name='Inner89')\n",
      "                                                                                                                                            Clade(name='Inner43')\n",
      "                                                                                                                                                Clade(name='A222')\n",
      "                                                                                                                                                Clade(name='Inner42')\n",
      "                                                                                                                                                    Clade(name='A221')\n",
      "                                                                                                                                                    Clade(name='A143')\n",
      "                                                                                                                                            Clade(name='Inner88')\n",
      "                                                                                                                                                Clade(name='A225')\n",
      "                                                                                                                                                Clade(name='Inner87')\n",
      "                                                                                                                                                    Clade(name='A295')\n",
      "                                                                                                                                                    Clade(name='Inner86')\n",
      "                                                                                                                                                        Clade(name='A294')\n",
      "                                                                                                                                                        Clade(name='Inner85')\n",
      "                                                                                                                                                            Clade(name='A293')\n",
      "                                                                                                                                                            Clade(name='Inner84')\n",
      "                                                                                                                                                                Clade(name='A292')\n",
      "                                                                                                                                                                Clade(name='Inner83')\n",
      "                                                                                                                                                                    Clade(name='A289')\n",
      "                                                                                                                                                                    Clade(name='Inner82')\n",
      "                                                                                                                                                                        Clade(name='A287')\n",
      "                                                                                                                                                                        Clade(name='Inner81')\n",
      "                                                                                                                                                                            Clade(name='A286')\n",
      "                                                                                                                                                                            Clade(name='Inner80')\n",
      "                                                                                                                                                                                Clade(name='A283')\n",
      "                                                                                                                                                                                Clade(name='Inner79')\n",
      "                                                                                                                                                                                    Clade(name='A279')\n",
      "                                                                                                                                                                                    Clade(name='Inner78')\n",
      "                                                                                                                                                                                        Clade(name='A242')\n",
      "                                                                                                                                                                                        Clade(name='Inner77')\n",
      "                                                                                                                                                                                            Clade(name='A241')\n",
      "                                                                                                                                                                                            Clade(name='Inner76')\n",
      "                                                                                                                                                                                                Clade(name='A240')\n",
      "                                                                                                                                                                                                Clade(name='Inner75')\n",
      "                                                                                                                                                                                                    Clade(name='A239')\n",
      "                                                                                                                                                                                                    Clade(name='Inner74')\n",
      "                                                                                                                                                                                                        Clade(name='A238')\n",
      "                                                                                                                                                                                                        Clade(name='Inner73')\n",
      "                                                                                                                                                                                                            Clade(name='A237')\n",
      "                                                                                                                                                                                                            Clade(name='Inner72')\n",
      "                                                                                                                                                                                                                Clade(name='A236')\n",
      "                                                                                                                                                                                                                Clade(name='Inner71')\n",
      "                                                                                                                                                                                                                    Clade(name='A233')\n",
      "                                                                                                                                                                                                                    Clade(name='Inner70')\n",
      "                                                                                                                                                                                                                        Clade(name='A231')\n",
      "                                                                                                                                                                                                                        Clade(name='Inner69')\n",
      "                                                                                                                                                                                                                            Clade(name='A230')\n",
      "                                                                                                                                                                                                                            Clade(name='Inner68')\n",
      "                                                                                                                                                                                                                                Clade(name='A229')\n",
      "                                                                                                                                                                                                                                Clade(name='Inner67')\n",
      "                                                                                                                                                                                                                                    Clade(name='A227')\n",
      "                                                                                                                                                                                                                                    Clade(name='Inner66')\n",
      "                                                                                                                                                                                                                                        Clade(name='A226')\n",
      "                                                                                                                                                                                                                                        Clade(name='Inner65')\n",
      "                                                                                                                                                                                                                                            Clade(name='A224')\n",
      "                                                                                                                                                                                                                                            Clade(name='Inner64')\n",
      "                                                                                                                                                                                                                                                Clade(name='A220')\n",
      "                                                                                                                                                                                                                                                Clade(name='Inner63')\n",
      "                                                                                                                                                                                                                                                    Clade(name='A219')\n",
      "                                                                                                                                                                                                                                                    Clade(name='Inner62')\n",
      "                                                                                                                                                                                                                                                        Clade(name='A218')\n",
      "                                                                                                                                                                                                                                                        Clade(name='Inner61')\n",
      "                                                                                                                                                                                                                                                            Clade(name='A217')\n",
      "                                                                                                                                                                                                                                                            Clade(name='Inner60')\n",
      "                                                                                                                                                                                                                                                                Clade(name='A216')\n",
      "                                                                                                                                                                                                                                                                Clade(name='Inner59')\n",
      "                                                                                                                                                                                                                                                                    Clade(name='A214')\n",
      "                                                                                                                                                                                                                                                                    Clade(name='Inner58')\n",
      "                                                                                                                                                                                                                                                                        Clade(name='A206')\n",
      "                                                                                                                                                                                                                                                                        Clade(name='Inner57')\n",
      "                                                                                                                                                                                                                                                                            Clade(name='A205')\n",
      "                                                                                                                                                                                                                                                                            Clade(name='Inner56')\n",
      "                                                                                                                                                                                                                                                                                Clade(name='A155')\n",
      "                                                                                                                                                                                                                                                                                Clade(name='Inner55')\n",
      "                                                                                                                                                                                                                                                                                    Clade(name='A154')\n",
      "                                                                                                                                                                                                                                                                                    Clade(name='Inner54')\n",
      "                                                                                                                                                                                                                                                                                        Clade(name='A153')\n",
      "                                                                                                                                                                                                                                                                                        Clade(name='Inner53')\n",
      "                                                                                                                                                                                                                                                                                            Clade(name='A152')\n",
      "                                                                                                                                                                                                                                                                                            Clade(name='Inner52')\n",
      "                                                                                                                                                                                                                                                                                                Clade(name='A151')\n",
      "                                                                                                                                                                                                                                                                                                Clade(name='Inner51')\n",
      "                                                                                                                                                                                                                                                                                                    Clade(name='A144')\n",
      "                                                                                                                                                                                                                                                                                                    Clade(name='Inner50')\n",
      "                                                                                                                                                                                                                                                                                                        Clade(name='A88')\n",
      "                                                                                                                                                                                                                                                                                                        Clade(name='Inner49')\n",
      "                                                                                                                                                                                                                                                                                                            Clade(name='A212')\n",
      "                                                                                                                                                                                                                                                                                                            Clade(name='Inner48')\n",
      "                                                                                                                                                                                                                                                                                                                Clade(name='A150')\n",
      "                                                                                                                                                                                                                                                                                                                Clade(name='A146')\n",
      "                                                                                    Clade(name='Inner274')\n",
      "                                                                                        Clade(name='Inner210')\n",
      "                                                                                            Clade(name='A183')\n",
      "                                                                                            Clade(name='Inner209')\n",
      "                                                                                                Clade(name='A97')\n",
      "                                                                                                Clade(name='Inner208')\n",
      "                                                                                                    Clade(name='A79')\n",
      "                                                                                                    Clade(name='Inner207')\n",
      "                                                                                                        Clade(name='A78')\n",
      "                                                                                                        Clade(name='Inner206')\n",
      "                                                                                                            Clade(name='A77')\n",
      "                                                                                                            Clade(name='Inner205')\n",
      "                                                                                                                Clade(name='A76')\n",
      "                                                                                                                Clade(name='Inner204')\n",
      "                                                                                                                    Clade(name='A75')\n",
      "                                                                                                                    Clade(name='A74')\n",
      "                                                                                        Clade(name='Inner250')\n",
      "                                                                                            Clade(name='Inner211')\n",
      "                                                                                                Clade(name='A86')\n",
      "                                                                                                Clade(name='Inner114')\n",
      "                                                                                                    Clade(name='A70')\n",
      "                                                                                                    Clade(name='A69')\n",
      "                                                                                            Clade(name='Inner249')\n",
      "                                                                                                Clade(name='Inner247')\n",
      "                                                                                                    Clade(name='Inner187')\n",
      "                                                                                                        Clade(name='Inner108')\n",
      "                                                                                                            Clade(name='A244')\n",
      "                                                                                                            Clade(name='Inner5')\n",
      "                                                                                                                Clade(name='A198')\n",
      "                                                                                                                Clade(name='Inner4')\n",
      "                                                                                                                    Clade(name='Inner3')\n",
      "                                                                                                                        Clade(name='A202')\n",
      "                                                                                                                        Clade(name='A197')\n",
      "                                                                                                                    Clade(name='Inner2')\n",
      "                                                                                                                        Clade(name='A196')\n",
      "                                                                                                                        Clade(name='Inner1')\n",
      "                                                                                                                            Clade(name='A200')\n",
      "                                                                                                                            Clade(name='A199')\n",
      "                                                                                                        Clade(name='Inner117')\n",
      "                                                                                                            Clade(name='Inner22')\n",
      "                                                                                                                Clade(name='A135')\n",
      "                                                                                                                Clade(name='Inner21')\n",
      "                                                                                                                    Clade(name='A136')\n",
      "                                                                                                                    Clade(name='A134')\n",
      "                                                                                                            Clade(name='Inner116')\n",
      "                                                                                                                Clade(name='Inner107')\n",
      "                                                                                                                    Clade(name='A182')\n",
      "                                                                                                                    Clade(name='A181')\n",
      "                                                                                                                Clade(name='Inner115')\n",
      "                                                                                                                    Clade(name='A9')\n",
      "                                                                                                                    Clade(name='Inner113')\n",
      "                                                                                                                        Clade(name='A67')\n",
      "                                                                                                                        Clade(name='Inner112')\n",
      "                                                                                                                            Clade(name='A106')\n",
      "                                                                                                                            Clade(name='A95')\n",
      "                                                                                                    Clade(name='Inner246')\n",
      "                                                                                                        Clade(name='Inner162')\n",
      "                                                                                                            Clade(name='A191')\n",
      "                                                                                                            Clade(name='Inner111')\n",
      "                                                                                                                Clade(name='A277')\n",
      "                                                                                                                Clade(name='Inner110')\n",
      "                                                                                                                    Clade(name='A276')\n",
      "                                                                                                                    Clade(name='Inner109')\n",
      "                                                                                                                        Clade(name='A275')\n",
      "                                                                                                                        Clade(name='A207')\n",
      "                                                                                                        Clade(name='Inner245')\n",
      "                                                                                                            Clade(name='A267')\n",
      "                                                                                                            Clade(name='Inner244')\n",
      "                                                                                                                Clade(name='A266')\n",
      "                                                                                                                Clade(name='Inner243')\n",
      "                                                                                                                    Clade(name='A192')\n",
      "                                                                                                                    Clade(name='Inner242')\n",
      "                                                                                                                        Clade(name='A16')\n",
      "                                                                                                                        Clade(name='Inner241')\n",
      "                                                                                                                            Clade(name='A26')\n",
      "                                                                                                                            Clade(name='Inner240')\n",
      "                                                                                                                                Clade(name='A185')\n",
      "                                                                                                                                Clade(name='Inner239')\n",
      "                                                                                                                                    Clade(name='Inner126')\n",
      "                                                                                                                                        Clade(name='A297')\n",
      "                                                                                                                                        Clade(name='A99')\n",
      "                                                                                                                                    Clade(name='Inner238')\n",
      "                                                                                                                                        Clade(name='Inner161')\n",
      "                                                                                                                                            Clade(name='A268')\n",
      "                                                                                                                                            Clade(name='A194')\n",
      "                                                                                                                                        Clade(name='Inner237')\n",
      "                                                                                                                                            Clade(name='A204')\n",
      "                                                                                                                                            Clade(name='Inner236')\n",
      "                                                                                                                                                Clade(name='A195')\n",
      "                                                                                                                                                Clade(name='Inner235')\n",
      "                                                                                                                                                    Clade(name='A193')\n",
      "                                                                                                                                                    Clade(name='Inner234')\n",
      "                                                                                                                                                        Clade(name='A100')\n",
      "                                                                                                                                                        Clade(name='Inner233')\n",
      "                                                                                                                                                            Clade(name='A84')\n",
      "                                                                                                                                                            Clade(name='Inner232')\n",
      "                                                                                                                                                                Clade(name='A83')\n",
      "                                                                                                                                                                Clade(name='A25')\n",
      "                                                                                                Clade(name='Inner248')\n",
      "                                                                                                    Clade(name='Inner163')\n",
      "                                                                                                        Clade(name='Inner159')\n",
      "                                                                                                            Clade(name='A92')\n",
      "                                                                                                            Clade(name='Inner156')\n",
      "                                                                                                                Clade(name='A265')\n",
      "                                                                                                                Clade(name='A160')\n",
      "                                                                                                        Clade(name='Inner157')\n",
      "                                                                                                            Clade(name='Inner142')\n",
      "                                                                                                                Clade(name='Inner141')\n",
      "                                                                                                                    Clade(name='A104')\n",
      "                                                                                                                    Clade(name='Inner139')\n",
      "                                                                                                                        Clade(name='A127')\n",
      "                                                                                                                        Clade(name='A125')\n",
      "                                                                                                                Clade(name='Inner136')\n",
      "                                                                                                                    Clade(name='A30')\n",
      "                                                                                                                    Clade(name='Inner119')\n",
      "                                                                                                                        Clade(name='A167')\n",
      "                                                                                                                        Clade(name='Inner118')\n",
      "                                                                                                                            Clade(name='A168')\n",
      "                                                                                                                            Clade(name='A29')\n",
      "                                                                                                            Clade(name='Inner140')\n",
      "                                                                                                                Clade(name='A91')\n",
      "                                                                                                                Clade(name='Inner133')\n",
      "                                                                                                                    Clade(name='A19')\n",
      "                                                                                                                    Clade(name='Inner132')\n",
      "                                                                                                                        Clade(name='Inner123')\n",
      "                                                                                                                            Clade(name='A90')\n",
      "                                                                                                                            Clade(name='Inner120')\n",
      "                                                                                                                                Clade(name='A174')\n",
      "                                                                                                                                Clade(name='A21')\n",
      "                                                                                                                        Clade(name='Inner131')\n",
      "                                                                                                                            Clade(name='A172')\n",
      "                                                                                                                            Clade(name='Inner130')\n",
      "                                                                                                                                Clade(name='A178')\n",
      "                                                                                                                                Clade(name='Inner129')\n",
      "                                                                                                                                    Clade(name='A177')\n",
      "                                                                                                                                    Clade(name='A176')\n",
      "                                                                                                    Clade(name='Inner230')\n",
      "                                                                                                        Clade(name='A288')\n",
      "                                                                                                        Clade(name='Inner229')\n",
      "                                                                                                            Clade(name='Inner228')\n",
      "                                                                                                                Clade(name='A124')\n",
      "                                                                                                                Clade(name='Inner227')\n",
      "                                                                                                                    Clade(name='Inner173')\n",
      "                                                                                                                        Clade(name='A33')\n",
      "                                                                                                                        Clade(name='Inner172')\n",
      "                                                                                                                            Clade(name='A32')\n",
      "                                                                                                                            Clade(name='Inner171')\n",
      "                                                                                                                                Clade(name='A31')\n",
      "                                                                                                                                Clade(name='A7')\n",
      "                                                                                                                    Clade(name='Inner226')\n",
      "                                                                                                                        Clade(name='A8')\n",
      "                                                                                                                        Clade(name='Inner225')\n",
      "                                                                                                                            Clade(name='Inner170')\n",
      "                                                                                                                                Clade(name='A252')\n",
      "                                                                                                                                Clade(name='Inner169')\n",
      "                                                                                                                                    Clade(name='A113')\n",
      "                                                                                                                                    Clade(name='A112')\n",
      "                                                                                                                            Clade(name='Inner224')\n",
      "                                                                                                                                Clade(name='Inner179')\n",
      "                                                                                                                                    Clade(name='A47')\n",
      "                                                                                                                                    Clade(name='Inner178')\n",
      "                                                                                                                                        Clade(name='A158')\n",
      "                                                                                                                                        Clade(name='Inner177')\n",
      "                                                                                                                                            Clade(name='A6')\n",
      "                                                                                                                                            Clade(name='Inner176')\n",
      "                                                                                                                                                Clade(name='A102')\n",
      "                                                                                                                                                Clade(name='Inner175')\n",
      "                                                                                                                                                    Clade(name='A38')\n",
      "                                                                                                                                                    Clade(name='A22')\n",
      "                                                                                                                                Clade(name='Inner223')\n",
      "                                                                                                                                    Clade(name='A28')\n",
      "                                                                                                                                    Clade(name='Inner222')\n",
      "                                                                                                                                        Clade(name='A137')\n",
      "                                                                                                                                        Clade(name='Inner221')\n",
      "                                                                                                                                            Clade(name='Inner134')\n",
      "                                                                                                                                                Clade(name='A165')\n",
      "                                                                                                                                                Clade(name='A164')\n",
      "                                                                                                                                            Clade(name='Inner220')\n",
      "                                                                                                                                                Clade(name='A257')\n",
      "                                                                                                                                                Clade(name='Inner219')\n",
      "                                                                                                                                                    Clade(name='A117')\n",
      "                                                                                                                                                    Clade(name='Inner218')\n",
      "                                                                                                                                                        Clade(name='A116')\n",
      "                                                                                                                                                        Clade(name='Inner217')\n",
      "                                                                                                                                                            Clade(name='A5')\n",
      "                                                                                                                                                            Clade(name='Inner216')\n",
      "                                                                                                                                                                Clade(name='A166')\n",
      "                                                                                                                                                                Clade(name='A43')\n",
      "                                                                                                            Clade(name='Inner215')\n",
      "                                                                                                                Clade(name='A253')\n",
      "                                                                                                                Clade(name='Inner214')\n",
      "                                                                                                                    Clade(name='Inner213')\n",
      "                                                                                                                        Clade(name='Inner135')\n",
      "                                                                                                                            Clade(name='A169')\n",
      "                                                                                                                            Clade(name='A27')\n",
      "                                                                                                                        Clade(name='Inner189')\n",
      "                                                                                                                            Clade(name='Inner174')\n",
      "                                                                                                                                Clade(name='Inner40')\n",
      "                                                                                                                                    Clade(name='A132')\n",
      "                                                                                                                                    Clade(name='A131')\n",
      "                                                                                                                                Clade(name='Inner137')\n",
      "                                                                                                                                    Clade(name='A163')\n",
      "                                                                                                                                    Clade(name='A128')\n",
      "                                                                                                                            Clade(name='Inner188')\n",
      "                                                                                                                                Clade(name='Inner31')\n",
      "                                                                                                                                    Clade(name='A278')\n",
      "                                                                                                                                    Clade(name='A4')\n",
      "                                                                                                                                Clade(name='Inner158')\n",
      "                                                                                                                                    Clade(name='Inner138')\n",
      "                                                                                                                                        Clade(name='A50')\n",
      "                                                                                                                                        Clade(name='A49')\n",
      "                                                                                                                                    Clade(name='Inner122')\n",
      "                                                                                                                                        Clade(name='A48')\n",
      "                                                                                                                                        Clade(name='Inner121')\n",
      "                                                                                                                                            Clade(name='A254')\n",
      "                                                                                                                                            Clade(name='A123')\n",
      "                                                                                                                    Clade(name='Inner193')\n",
      "                                                                                                                        Clade(name='A258')\n",
      "                                                                                                                        Clade(name='Inner186')\n",
      "                                                                                                                            Clade(name='Inner185')\n",
      "                                                                                                                                Clade(name='A170')\n",
      "                                                                                                                                Clade(name='Inner184')\n",
      "                                                                                                                                    Clade(name='Inner125')\n",
      "                                                                                                                                        Clade(name='A122')\n",
      "                                                                                                                                        Clade(name='Inner124')\n",
      "                                                                                                                                            Clade(name='A120')\n",
      "                                                                                                                                            Clade(name='A119')\n",
      "                                                                                                                                    Clade(name='Inner183')\n",
      "                                                                                                                                        Clade(name='Inner145')\n",
      "                                                                                                                                            Clade(name='A114')\n",
      "                                                                                                                                            Clade(name='A44')\n",
      "                                                                                                                                        Clade(name='Inner182')\n",
      "                                                                                                                                            Clade(name='Inner144')\n",
      "                                                                                                                                                Clade(name='A260')\n",
      "                                                                                                                                                Clade(name='A173')\n",
      "                                                                                                                                            Clade(name='Inner181')\n",
      "                                                                                                                                                Clade(name='A103')\n",
      "                                                                                                                                                Clade(name='Inner180')\n",
      "                                                                                                                                                    Clade(name='A175')\n",
      "                                                                                                                                                    Clade(name='A171')\n",
      "                                                                                                                            Clade(name='Inner168')\n",
      "                                                                                                                                Clade(name='Inner147')\n",
      "                                                                                                                                    Clade(name='A281')\n",
      "                                                                                                                                    Clade(name='Inner146')\n",
      "                                                                                                                                        Clade(name='A262')\n",
      "                                                                                                                                        Clade(name='A18')\n",
      "                                                                                                                                Clade(name='Inner160')\n",
      "                                                                                                                                    Clade(name='Inner154')\n",
      "                                                                                                                                        Clade(name='A45')\n",
      "                                                                                                                                        Clade(name='Inner153')\n",
      "                                                                                                                                            Clade(name='Inner127')\n",
      "                                                                                                                                                Clade(name='A259')\n",
      "                                                                                                                                                Clade(name='A255')\n",
      "                                                                                                                                            Clade(name='Inner152')\n",
      "                                                                                                                                                Clade(name='A85')\n",
      "                                                                                                                                                Clade(name='Inner151')\n",
      "                                                                                                                                                    Clade(name='A256')\n",
      "                                                                                                                                                    Clade(name='Inner150')\n",
      "                                                                                                                                                        Clade(name='A46')\n",
      "                                                                                                                                                        Clade(name='Inner149')\n",
      "                                                                                                                                                            Clade(name='A264')\n",
      "                                                                                                                                                            Clade(name='Inner148')\n",
      "                                                                                                                                                                Clade(name='A263')\n",
      "                                                                                                                                                                Clade(name='A261')\n",
      "                                                                                                                                    Clade(name='Inner39')\n",
      "                                                                                                                                        Clade(name='A24')\n",
      "                                                                                                                                        Clade(name='Inner37')\n",
      "                                                                                                                                            Clade(name='Inner35')\n",
      "                                                                                                                                                Clade(name='A208')\n",
      "                                                                                                                                                Clade(name='Inner34')\n",
      "                                                                                                                                                    Clade(name='A142')\n",
      "                                                                                                                                                    Clade(name='A11')\n",
      "                                                                                                                                            Clade(name='Inner30')\n",
      "                                                                                                                                                Clade(name='A12')\n",
      "                                                                                                                                                Clade(name='Inner27')\n",
      "                                                                                                                                                    Clade(name='A121')\n",
      "                                                                                                                                                    Clade(name='Inner24')\n",
      "                                                                                                                                                        Clade(name='A36')\n",
      "                                                                                                                                                        Clade(name='Inner20')\n",
      "                                                                                                                                                            Clade(name='A13')\n",
      "                                                                                                                                                            Clade(name='Inner18')\n",
      "                                                                                                                                                                Clade(name='A203')\n",
      "                                                                                                                                                                Clade(name='Inner17')\n",
      "                                                                                                                                                                    Clade(name='A285')\n",
      "                                                                                                                                                                    Clade(name='Inner16')\n",
      "                                                                                                                                                                        Clade(name='A14')\n",
      "                                                                                                                                                                        Clade(name='Inner11')\n",
      "                                                                                                                                                                            Clade(name='A139')\n",
      "                                                                                                                                                                            Clade(name='Inner10')\n",
      "                                                                                                                                                                                Clade(name='Inner9')\n",
      "                                                                                                                                                                                    Clade(name='A133')\n",
      "                                                                                                                                                                                    Clade(name='A130')\n",
      "                                                                                                                                                                                Clade(name='Inner8')\n",
      "                                                                                                                                                                                    Clade(name='A10')\n",
      "                                                                                                                                                                                    Clade(name='Inner7')\n",
      "                                                                                                                                                                                        Clade(name='A3')\n",
      "                                                                                                                                                                                        Clade(name='Inner6')\n",
      "                                                                                                                                                                                            Clade(name='A15')\n",
      "                                                                                                                                                                                            Clade(name='A2')\n"
     ]
    },
    {
     "data": {
      "image/png": "[encoded data removed]",
      "text/plain": [
       "<Figure size 432x288 with 1 Axes>"
      ]
     },
     "metadata": {
      "needs_background": "light"
     },
     "output_type": "display_data"
    }
   ],
   "source": [
    "records = [x.seq[21563:25384+1] for x in SeqIO.parse(\"./UK Coronavirus Data/Coronavirus Samples/England (NOV032020)/HCOV19-ENGLAND-031120-A.fasta\", \"fasta\")]\n",
    "records += [x.seq[21563:25384+1] for x in SeqIO.parse(\"./UK Coronavirus Data/Coronavirus Samples/England (NOV272020)/HCOV19-ENGLAND-271120-A.fasta\", \"fasta\")]\n",
    "records += [x.seq[21563:25384+1] for x in SeqIO.parse(\"./UK Coronavirus Data/Coronavirus Samples/England (DEC082020)/HCOV19-ENGLAND-081220-A.fasta\", \"fasta\")]\n",
    "nucleotide_matrix = convert_nucleotide_matrix(np.array(records))\n",
    "pairwise_similarity_matrix = calculate_pairwise_similarity_matrix(nucleotide_matrix)\n",
    "\n",
    "# first create distance matrix\n",
    "dist_matrix = []\n",
    "for i,row in enumerate(1 - np.array(pairwise_similarity_matrix)):\n",
    "    dist_matrix.append(list(row[:i+1])) ## works only with python lists, convert np array to python built-in list\n",
    "distance_matrix = DistanceMatrix(names=[\"A{}\".format(i+1) for i in range(len(dist_matrix))],matrix=dist_matrix)\n",
    "tree = DistanceTreeConstructor().nj(distance_matrix)\n",
    "tree.ladderize()\n",
    "print(tree)\n",
    "Phylo.draw(tree)"
   ]
  }
 ],
 "metadata": {
  "interpreter": {
   "hash": "e63291afafa144063dd2820976680ed2eef0eec63a99b05cc6508ae8bf4f4b1a"
  },
  "kernelspec": {
   "display_name": "Python 3.9.7 ('base')",
   "language": "python",
   "name": "python3"
  },
  "language_info": {
   "codemirror_mode": {
    "name": "ipython",
    "version": 3
   },
   "file_extension": ".py",
   "mimetype": "text/x-python",
   "name": "python",
   "nbconvert_exporter": "python",
   "pygments_lexer": "ipython3",
   "version": "3.9.7"
  },
  "orig_nbformat": 4
 },
 "nbformat": 4,
 "nbformat_minor": 2
}
